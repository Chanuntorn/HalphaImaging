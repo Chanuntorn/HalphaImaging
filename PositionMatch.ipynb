{
 "cells": [
  {
   "cell_type": "code",
   "execution_count": null,
   "metadata": {
    "collapsed": true
   },
   "outputs": [],
   "source": [
    "import numpy as np"
   ]
  },
  {
   "cell_type": "code",
   "execution_count": null,
   "metadata": {
    "collapsed": true
   },
   "outputs": [],
   "source": [
    "def matchposition(x,y,x2,y2):\n",
    "    '''\n",
    "    x1 = point\n",
    "    y1 = point\n",
    "    x2,y2 = sorted list of coordinates to match to\n",
    "    '''"
   ]
  },
  {
   "cell_type": "code",
   "execution_count": null,
   "metadata": {
    "collapsed": true
   },
   "outputs": [],
   "source": [
    "def matchlists(x1,y1,x2,y2):\n",
    "    '''\n",
    "    feed in two lists\n",
    "    match objects in list (x1,y1) to the closest object in list (x2,y2)\n",
    "    '''\n",
    "    \n",
    "    # sort x2,y2\n",
    "    # keep track of index in unsorted array\n",
    "    index = np.arange(len(x2))\n",
    "    sorted_index = np.argsort(x2)\n",
    "    # match each object in x1,y1 to sorted list\n",
    "    match_index = np.zeros(len(x2),'i')\n",
    "    match_flag = np.zeros(len(x2),'bool')\n",
    "    "
   ]
  }
 ],
 "metadata": {
  "anaconda-cloud": {},
  "kernelspec": {
   "display_name": "Python [default]",
   "language": "python",
   "name": "python2"
  },
  "language_info": {
   "codemirror_mode": {
    "name": "ipython",
    "version": 2
   },
   "file_extension": ".py",
   "mimetype": "text/x-python",
   "name": "python",
   "nbconvert_exporter": "python",
   "pygments_lexer": "ipython2",
   "version": "2.7.12"
  }
 },
 "nbformat": 4,
 "nbformat_minor": 1
}
