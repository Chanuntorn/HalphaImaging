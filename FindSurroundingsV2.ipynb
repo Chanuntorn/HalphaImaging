{
 "cells": [
  {
   "cell_type": "code",
   "execution_count": 2,
   "metadata": {
    "collapsed": true
   },
   "outputs": [],
   "source": [
    "import numpy as np\n",
    "from astropy.io import fits\n",
    "import time\n",
    "import argparse"
   ]
  },
  {
   "cell_type": "code",
   "execution_count": null,
   "metadata": {
    "collapsed": true
   },
   "outputs": [],
   "source": [
    "parser = argparse.ArgumentParser(description ='Creates line matched tables for area surrounding input RA and DEC')\n",
    "parser.add_argument('--s', dest = 's', default = False, action = 'store_true', help = 'Use shortened version of NSA catalog (nsa_uat.fits)')\n",
    "args = parser.parse_args()"
   ]
  },
  {
   "cell_type": "code",
   "execution_count": 3,
   "metadata": {
    "collapsed": true
   },
   "outputs": [],
   "source": [
    "def findSurroundings2(ra, dec, radius, prefix):\n",
    "    start_time = time.time()\n",
    "    if arg.s:\n",
    "        petro = fits.getdata('YangDR7PetroToNSA_uat.fits')\n",
    "        model = fits.getdata('YangDR7ModelToNSA_uat.fits')\n",
    "        nsadat = fits.getdata('nsa_uat.fits')\n",
    "        simard1 = fits.getdata('Simard1ToNSA_uat.fits')\n",
    "        simard2 = fits.getdata('Simard2ToNSA_uat.fits')\n",
    "        simard3 = fits.getdata('Simard3ToNSA_uat.fits')\n",
    "    else:\n",
    "        petro = fits.getdata('YangDR7PetroToNSA.fits')\n",
    "        model = fits.getdata('YangDR7ModelToNSA.fits')\n",
    "        nsadat = fits.getdata('nsa_v0_1_2.fits')\n",
    "        simard1 = fits.getdata('Simard1ToNSA.fits')\n",
    "        simard2 = fits.getdata('Simard2ToNSA.fits')\n",
    "        simard3 = fits.getdata('Simard3ToNSA.fits')\n",
    "    d=np.sqrt((ra-nsadat.RA)**2 + (dec-nsadat.DEC)**2)\n",
    "    index=np.arange(len(d))\n",
    "    matches=index[d<=radius]\n",
    "    print '%i entries found' % len(matches)\n",
    "    if arg.s:\n",
    "        fits.writeto(prefix+'_NSA_uat.fits',nsadat[matches],clobber=True)\n",
    "        fits.writeto(prefix+'_Petro_uat.fits',petro[matches],clobber=True)\n",
    "        fits.writeto(prefix+'_Model_uat.fits',model[matches],clobber=True)\n",
    "        fits.writeto(prefix+'_Simard1_uat.fits',simard1[matches],clobber=True)\n",
    "        fits.writeto(prefix+'_Simard2_uat.fits',simard2[matches],clobber=True)\n",
    "        fits.writeto(prefix+'_Simard3_uat.fits',simard3[matches],clobber=True) \n",
    "    else:\n",
    "        fits.writeto(prefix+'_NSA.fits',nsadat[matches],clobber=True)\n",
    "        fits.writeto(prefix+'_Petro.fits',petro[matches],clobber=True)\n",
    "        fits.writeto(prefix+'_Model.fits',model[matches],clobber=True)\n",
    "        fits.writeto(prefix+'_Simard1.fits',simard1[matches],clobber=True)\n",
    "        fits.writeto(prefix+'_Simard2.fits',simard2[matches],clobber=True)\n",
    "        fits.writeto(prefix+'_Simard3.fits',simard3[matches],clobber=True)\n",
    "    print(\"--- %s seconds ---\" % (time.time() - start_time))"
   ]
  },
  {
   "cell_type": "code",
   "execution_count": null,
   "metadata": {
    "collapsed": true
   },
   "outputs": [],
   "source": []
  }
 ],
 "metadata": {
  "kernelspec": {
   "display_name": "Python 2",
   "language": "python",
   "name": "python2"
  },
  "language_info": {
   "codemirror_mode": {
    "name": "ipython",
    "version": 2
   },
   "file_extension": ".py",
   "mimetype": "text/x-python",
   "name": "python",
   "nbconvert_exporter": "python",
   "pygments_lexer": "ipython2",
   "version": "2.7.11"
  }
 },
 "nbformat": 4,
 "nbformat_minor": 0
}
