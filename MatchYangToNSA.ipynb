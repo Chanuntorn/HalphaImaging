{
 "cells": [
  {
   "cell_type": "markdown",
   "metadata": {},
   "source": [
    "Goal:  \n",
    "To match the NSA catalog with both the Yang Petro catalog and the Yang Model catalog.  \n",
    "\n",
    "Required files:  \n",
    "* Must have the output files from both CombineGroupYang.ipynb and CompleteYang.ipynb in the current directory\n",
    "* Specifically completePetro.fits and completeModel.fits\n",
    "* The NASA Sloan Atlas catalog (nsa_v0_1_2.fits) found here http://www.nsatlas.org/data\n",
    "\n",
    "Outputs:\n",
    "* YangDR7PetroToNSA.fits \n",
    "* YangDR7ModelToNSA.fits"
   ]
  },
  {
   "cell_type": "code",
   "execution_count": 1,
   "metadata": {
    "collapsed": true
   },
   "outputs": [],
   "source": [
    "import csv\n",
    "import numpy as np\n",
    "from astropy.io import fits\n",
    "import glob"
   ]
  },
  {
   "cell_type": "code",
   "execution_count": 2,
   "metadata": {
    "collapsed": true
   },
   "outputs": [],
   "source": [
    "def findnearest(x1,y1,x2,y2,delta):\n",
    "    matchflag=1\n",
    "    nmatch=0\n",
    "    d=np.sqrt((x1-x2)**2 + (y1-y2)**2)\n",
    "    index=np.arange(len(d))\n",
    "    t=index[d<delta]\n",
    "    matches=t\n",
    "    if len(matches) > 0:\n",
    "        nmatch=len(matches)\n",
    "        if nmatch > 1:\n",
    "            imatch=index[(d == min(d[t]))]\n",
    "        else:\n",
    "            imatch=matches[0]\n",
    "    else:\n",
    "        imatch = 0\n",
    "        matchflag = 0\n",
    "\n",
    "    return imatch, matchflag,nmatch"
   ]
  },
  {
   "cell_type": "code",
   "execution_count": 4,
   "metadata": {
    "collapsed": true
   },
   "outputs": [],
   "source": [
    "petro = fits.getdata('completePetro.fits')\n",
    "model = fits.getdata('completeModel.fits')\n",
    "nsadat =fits.getdata('nsa_v0_1_2.fits')"
   ]
  },
  {
   "cell_type": "code",
   "execution_count": 7,
   "metadata": {
    "collapsed": false
   },
   "outputs": [],
   "source": [
    "matchRadius=0.1/3600\n",
    "\n",
    "imatch=np.zeros(len(nsadat.RA),'i')\n",
    "matchflag=np.zeros(len(nsadat.RA),'bool')\n",
    "nmatch=np.zeros(len(nsadat.RA),'i')\n",
    "for i in range(len(nsadat.RA)):\n",
    "    imatch[i],matchflag[i],nmatch[i]  = findnearest(nsadat.RA[i],nsadat.DEC[i],petro.field(2),petro.field(3),matchRadius)      \n",
    "outfile='YangDR7PetroToNSA.fits'\n",
    "matchedarray=np.zeros(len(nsadat),dtype=petro.dtype)\n",
    "matchedarray[matchflag] = petro[imatch[matchflag]]\n",
    "fits.writeto(outfile,matchedarray,clobber=True)"
   ]
  },
  {
   "cell_type": "code",
   "execution_count": 8,
   "metadata": {
    "collapsed": true
   },
   "outputs": [],
   "source": [
    "imatch=np.zeros(len(nsadat.RA),'i')\n",
    "matchflag=np.zeros(len(nsadat.RA),'bool')\n",
    "nmatch=np.zeros(len(nsadat.RA),'i')\n",
    "for i in range(len(nsadat.RA)):\n",
    "    imatch[i],matchflag[i],nmatch[i]  = findnearest(nsadat.RA[i],nsadat.DEC[i],model.field(2),model.field(3),matchRadius)      \n",
    "outfile='YangDR7ModelToNSA.fits'\n",
    "matchedarray=np.zeros(len(nsadat),dtype=model.dtype)\n",
    "matchedarray[matchflag] = model[imatch[matchflag]]\n",
    "fits.writeto(outfile,matchedarray,clobber=True)"
   ]
  }
 ],
 "metadata": {
  "kernelspec": {
   "display_name": "Python 2",
   "language": "python",
   "name": "python2"
  },
  "language_info": {
   "codemirror_mode": {
    "name": "ipython",
    "version": 2
   },
   "file_extension": ".py",
   "mimetype": "text/x-python",
   "name": "python",
   "nbconvert_exporter": "python",
   "pygments_lexer": "ipython2",
   "version": "2.7.11"
  }
 },
 "nbformat": 4,
 "nbformat_minor": 0
}
