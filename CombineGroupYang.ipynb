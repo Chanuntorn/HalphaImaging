{
 "cells": [
  {
   "cell_type": "markdown",
   "metadata": {},
   "source": [
    "GOAL:<br/>\n",
    "   To combine the Yang group and Yang galaxy catalogs into one large catalog containing all their information\n",
    "\n",
    "PROCEDURE:\n",
    "    1. Convert space seperated variable tables to csv for easier use\n",
    "    2. Read in new csv files\n",
    "    3. Combine tables\n",
    "    4. Write new csv files containing the combined tables\n",
    "\n",
    "REQUIRED MODULES:\n",
    "    1. Python's built in csv module\n",
    "    2. Numerical Python (numpy)\n",
    "    3. Astropy\n",
    "    3. Glob\n",
    "\n",
    "REQUIRED FILES:  \n",
    "    The original SSDS DR7 Yang group and galaxy catalogs found here: http://gax.shao.ac.cn/data/Group.html  \n",
    "    Only uses the \"C\" set of data because that set has the most accurate redshift data  \n",
    "    NOTE: currently only works on these files  \n",
    "    \n",
    "OUTPUTS:  \n",
    "    combinePetro.csv (this combines ipetroC_1 and petroC_group)  \n",
    "    combinePetro.fits  \n",
    "    combineModel.csv (this combines imodelC_1 and modelC_group)  \n",
    "    combineModel.fits      \n",
    "    (can be changed in the 5th cell in the np.savetxt command)  \n",
    "    These files contain the following information by column:\n",
    "    1. Galaxy ID\n",
    "    2. Galaxy ID in NYU_VAGC\n",
    "    3. Group ID (0 if not in any group)\n",
    "    4. Brightest Galaxy in group (1 = True, 2 = False)\n",
    "    5. Most Massive Galaxy in group (M_stellar) (1 = True, 2 = False)\n",
    "    6. RA of group\n",
    "    7. DEC of group\n",
    "    8. Z of group\n",
    "    9. group L_{-19.5} log L_{\\odot}/h^2; (characteristic group luminosity)\n",
    "    10. group stellar mass of galaxies brighter than M_r<-19.5      \n",
    "    11. halo mass1 in log M_halo/ (M_{\\odot}/h); (estimated using the ranking of group L_{-19.5})\n",
    "    12. halo mass2 in log M_halo/ (M_{\\odot}/h); (estimated using the ranking of M_stellar)\n",
    "    13. mean separation d=(1/n)^{1/3} Mpc/h of groups brighter than this; (estimated using the ranking of group L_{-19.5})\n",
    "    14. mean separation d=(1/n)^{1/3} Mpc/h of groups more massive than this;  (estimated using the ranking of M_stellar)\n",
    "    15. f_{edge}; edge effect: See Yang et al. 2007 \n",
    "    16. ID1: 1: mass estimated using the ranking of L_{-19.5}, -1: extrapolation\n",
    "    17. ID2: 1: mass estimated using the ranking of M_stellar, -1: extrapolation \n",
    "      "
   ]
  },
  {
   "cell_type": "code",
   "execution_count": 97,
   "metadata": {
    "collapsed": true
   },
   "outputs": [],
   "source": [
    "import csv\n",
    "import numpy as np\n",
    "from astropy.io import fits\n",
    "import glob"
   ]
  },
  {
   "cell_type": "code",
   "execution_count": 1,
   "metadata": {
    "collapsed": false
   },
   "outputs": [],
   "source": [
    "# Combines the two inputs into one table, matched by group ID\n",
    "# Returns a numpy array\n",
    "\n",
    "def combineTable(t1,t2):\n",
    "    t1 = np.array(t1)\n",
    "    t2 = np.array(t2)\n",
    "    combinedArray = np.empty((639359,17),'f') # creates an empty numpy array that is the same size as the final table\n",
    "    i = 0\n",
    "    combinedArray[:,0:5] = t1[:,0:5]\n",
    "    for row in combinedArray:\n",
    "        if row[2] !=0: # only matches galaxies that belong in a group\n",
    "            combinedArray[i,5:18] = t2[1:13,row[2]+2] # uses row[2]+2 because there is an offset of 2 between group ID and index\n",
    "        i= i+1\n",
    "    return combinedArray\n",
    "\n",
    "def makeFits(cT,outname):\n",
    "    p0 = fits.Column(name='galaxy_ID',format='J',array=cT[:,0])\n",
    "    p1 = fits.Column(name='galaxy_ID_NYU',format='J',array=cT[:,1])\n",
    "    p2 = fits.Column(name='group_ID',format='J',array=cT[:,2])\n",
    "    p3 = fits.Column(name='brightest_gal',format='J',array=cT[:,3])\n",
    "    p4 = fits.Column(name='massive_gal',format='J',array=cT[:,4])\n",
    "    p5 = fits.Column(name='RA_group',format='E',array=cT[:,5])\n",
    "    p6 = fits.Column(name='DEC_group',format='E',array=cT[:,6])\n",
    "    p7 = fits.Column(name='Z_group',format='E',array=cT[:,7])\n",
    "    p8 = fits.Column(name='L_group',format='E',array=cT[:,8])\n",
    "    p9 = fits.Column(name='mass_group',format='E',array=cT[:,9])\n",
    "    p10 = fits.Column(name='halo_mass1',format='E',array=cT[:,10])\n",
    "    p11 = fits.Column(name='halo_mass2',format='E',array=cT[:,11])\n",
    "    p12 = fits.Column(name='d_L',format='E',array=cT[:,12])\n",
    "    p13 = fits.Column(name='d_M',format='E',array=cT[:,13])\n",
    "    p14 = fits.Column(name='f_edge',format='E',array=cT[:,14])\n",
    "    p15 = fits.Column(name='ID1',format='J',array=cT[:,15])\n",
    "    p16 = fits.Column(name='ID2',format='J',array=cT[:,16])\n",
    "    coldefs = fits.ColDefs([p0,p1,p2,p3,p4,p5,p6,p7,p8,p9,p10,p11,p12,p13,p14,p15,p16])\n",
    "    hdu = fits.BinTableHDU.from_columns(coldefs)\n",
    "    outfile = outname+'.fits'\n",
    "    hdu.writeto(outfile,clobber=True)"
   ]
  },
  {
   "cell_type": "code",
   "execution_count": 3,
   "metadata": {
    "collapsed": false
   },
   "outputs": [],
   "source": [
    "# Converts space seperated variable tables to .csv files\n",
    "\n",
    "infiles = glob.glob('*C_*')\n",
    "infiles = set(infiles)-set(glob.glob('*.csv')) # doesn't convert files that are already .csv\n",
    "for doc in infiles:\n",
    "    with open(doc) as fin, open(doc+'.csv','w') as fout:\n",
    "        o=csv.writer(fout)\n",
    "        for line in fin:\n",
    "            o.writerow(line.split())"
   ]
  },
  {
   "cell_type": "code",
   "execution_count": 101,
   "metadata": {
    "collapsed": false
   },
   "outputs": [],
   "source": [
    "# Opens the new .csv files\n",
    "\n",
    "petro1 = np.loadtxt('ipetroC_1.csv',delimiter=',',unpack=True,dtype=float)\n",
    "petro3 = np.loadtxt('petroC_group.csv',delimiter=',',unpack=True,dtype=float)\n",
    "model1 = np.loadtxt('imodelC_1.csv',delimiter=',',unpack=True,dtype=float)\n",
    "model3 = np.loadtxt('modelC_group.csv',delimiter=',',unpack=True,dtype=float)"
   ]
  },
  {
   "cell_type": "code",
   "execution_count": 142,
   "metadata": {
    "collapsed": false
   },
   "outputs": [
    {
     "name": "stderr",
     "output_type": "stream",
     "text": [
      "/anaconda/lib/python2.7/site-packages/ipykernel/__main__.py:9: DeprecationWarning: using a non-integer number instead of an integer will result in an error in the future\n"
     ]
    }
   ],
   "source": [
    "# Writes out the combined tables to a .csv file\n",
    "\n",
    "combinePetro = combineTable(petro1,petro3)\n",
    "combineModel = combineTable(model1,model3)\n",
    "makeFits(combinePetro,'combinePetro')\n",
    "makeFits(combineModel,'combineModel')\n",
    "np.savetxt(\"combinePetro.csv\", combinePetro, delimiter=\",\")\n",
    "np.savetxt(\"combineModel.csv\", combineModel, delimiter=\",\")"
   ]
  }
 ],
 "metadata": {
  "kernelspec": {
   "display_name": "Python 2",
   "language": "python",
   "name": "python2"
  },
  "language_info": {
   "codemirror_mode": {
    "name": "ipython",
    "version": 2
   },
   "file_extension": ".py",
   "mimetype": "text/x-python",
   "name": "python",
   "nbconvert_exporter": "python",
   "pygments_lexer": "ipython2",
   "version": "2.7.11"
  }
 },
 "nbformat": 4,
 "nbformat_minor": 0
}
