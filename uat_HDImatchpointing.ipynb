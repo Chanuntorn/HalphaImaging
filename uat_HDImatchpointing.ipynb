{
 "metadata": {
  "name": "",
  "signature": "sha256:6ae4897189712ae95aec6468aac33543ffcff875397971c8bbc81653ce2e10b0"
 },
 "nbformat": 3,
 "nbformat_minor": 0,
 "worksheets": [
  {
   "cells": [
    {
     "cell_type": "code",
     "collapsed": false,
     "input": [
      "#!/usr/bin/env python\n",
      "\n",
      "'''\n",
      "GOAL:\n",
      "This program matches images with the same WCS coordinates, regardless of image filter. These images are then run in SWarp to ensure\n",
      "that the stacking process is as accurate as possible.\n",
      "\n",
      "REQUIREMENTS:\n",
      "Looks at images with the title in the format hcf*o00.fits\n",
      "Must be run in folder containing files to sort"
     ],
     "language": "python",
     "metadata": {},
     "outputs": []
    },
    {
     "cell_type": "code",
     "collapsed": false,
     "input": [
      "import glob \n",
      "import os\n",
      "import numpy as np"
     ],
     "language": "python",
     "metadata": {},
     "outputs": [],
     "prompt_number": 6
    },
    {
     "cell_type": "code",
     "collapsed": false,
     "input": [
      "os.system('gethead hcf*o00.head CRVAL1 CRVAL2 CRPIX1 CRPIX2 > junkfile3')\n",
      "infile=open('junkfile3','r')\n",
      "\n",
      "ra=[]\n",
      "dec=[]\n",
      "cpix1=[]\n",
      "cpix2=[]\n",
      "\n",
      "for line in infile:\n",
      "    t=line.split()\n",
      "    ra.append(t[9])\n",
      "    dec.\n",
      "    \n",
      "infile.close()\n",
      "\n",
      "objecttypes=set(fobject)\n",
      "fobject=np.array(fobject)\n",
      "\n",
      "for t in objecttypes:\n",
      "    objectgroup=str(t)+ '_'\n",
      "    indices=np.where(t==fobject)\n",
      "    if len(indices[0])>0:\n",
      "        outfile=open(objectgroup,'w')\n",
      "        \n",
      "        for i in indices[0]:\n",
      "            outfile.write(fnames[i]+'\\n')\n",
      "        outfile.close()\n",
      "        \n",
      "os.remove('junkfile3')\n"
     ],
     "language": "python",
     "metadata": {},
     "outputs": [
      {
       "ename": "NameError",
       "evalue": "name 'iraf' is not defined",
       "output_type": "pyerr",
       "traceback": [
        "\u001b[0;31m---------------------------------------------------------------------------\u001b[0m\n\u001b[0;31mNameError\u001b[0m                                 Traceback (most recent call last)",
        "\u001b[0;32m<ipython-input-2-b5c984b2388d>\u001b[0m in \u001b[0;36m<module>\u001b[0;34m()\u001b[0m\n\u001b[0;32m----> 1\u001b[0;31m \u001b[0miraf\u001b[0m\u001b[0;34m.\u001b[0m\u001b[0mnoao\u001b[0m\u001b[0;34m(\u001b[0m\u001b[0;34m)\u001b[0m\u001b[0;34m\u001b[0m\u001b[0m\n\u001b[0m\u001b[1;32m      2\u001b[0m \u001b[0miraf\u001b[0m\u001b[0;34m.\u001b[0m\u001b[0mimred\u001b[0m\u001b[0;34m(\u001b[0m\u001b[0;34m)\u001b[0m\u001b[0;34m\u001b[0m\u001b[0m\n\u001b[1;32m      3\u001b[0m \u001b[0miraf\u001b[0m\u001b[0;34m.\u001b[0m\u001b[0mccdred\u001b[0m\u001b[0;34m(\u001b[0m\u001b[0;34m)\u001b[0m\u001b[0;34m\u001b[0m\u001b[0m\n\u001b[1;32m      4\u001b[0m \u001b[0;34m\u001b[0m\u001b[0m\n\u001b[1;32m      5\u001b[0m \u001b[0mos\u001b[0m\u001b[0;34m.\u001b[0m\u001b[0msystem\u001b[0m\u001b[0;34m(\u001b[0m\u001b[0;34m'gethead hcf*o00.fits CMMTOBS OBJECT EXPTIME > junkfile3'\u001b[0m\u001b[0;34m)\u001b[0m\u001b[0;34m\u001b[0m\u001b[0m\n",
        "\u001b[0;31mNameError\u001b[0m: name 'iraf' is not defined"
       ]
      }
     ],
     "prompt_number": 2
    },
    {
     "cell_type": "code",
     "collapsed": false,
     "input": [
      "os.system('gethead hcf*o00.head CRVAL1 CRVAL2 CRPIX1 CRPIX2 > junkfile3')\n",
      "infile=open('junkfile3','r')\n",
      "for line in infile:\n",
      "    print line"
     ],
     "language": "python",
     "metadata": {},
     "outputs": [],
     "prompt_number": 8
    },
    {
     "cell_type": "code",
     "collapsed": false,
     "input": [],
     "language": "python",
     "metadata": {},
     "outputs": []
    }
   ],
   "metadata": {}
  }
 ]
}