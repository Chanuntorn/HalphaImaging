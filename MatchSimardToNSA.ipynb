{
 "cells": [
  {
   "cell_type": "markdown",
   "metadata": {},
   "source": [
    "Goal:  \n",
    "Combine the NSAYang catalog with the Simard catalog to include sersic fits\n",
    "\n",
    "Required Files:\n",
    "* The NASA Sloan Atlas catalog (nsa_v0_1_2.fits) found here http://www.nsatlas.org/data\n",
    "* asu.fit\n",
    "\n",
    "Obtaining asu.fit:\n",
    "1. http://vizier.cfa.harvard.edu/viz-bin/VizieR?-source=J/ApJS/196/11\n",
    "2. Check all boxes and click \"Join selected tables\"\n",
    "3. Scroll down and check \"ALL col\" then uncheck \"All\", \"Sloan\", and \"DR7\"\n",
    "4. Click any of the submit buttons\n",
    "5. On the left in the \"Preferences\" box change \"max\" to unlimited, \"HTML Table\" to \"FITS (ascii) table, and then click submit\n",
    "\n",
    "Notes:\n",
    "* All entries in asu.fit are strings. Can be changed to floats using np.astype(np.float32)"
   ]
  },
  {
   "cell_type": "code",
   "execution_count": 96,
   "metadata": {
    "collapsed": true
   },
   "outputs": [],
   "source": [
    "import csv\n",
    "import numpy as np\n",
    "from astropy.io import fits\n",
    "from numpy.lib.recfunctions import append_fields\n",
    "import glob\n",
    "import fnmatch"
   ]
  },
  {
   "cell_type": "code",
   "execution_count": 2,
   "metadata": {
    "collapsed": false
   },
   "outputs": [],
   "source": [
    "def findnearest(x1,y1,x2,y2,delta):\n",
    "    matchflag=1\n",
    "    nmatch=0\n",
    "    d=np.sqrt((x1-x2)**2 + (y1-y2)**2)\n",
    "    index=np.arange(len(d))\n",
    "    t=index[d<delta]\n",
    "    matches=t\n",
    "    if len(matches) > 0:\n",
    "        nmatch=len(matches)\n",
    "        if nmatch > 1:\n",
    "            imatch=index[(d == min(d[t]))]\n",
    "        else:\n",
    "            imatch=matches[0]\n",
    "    else:\n",
    "        imatch = 0\n",
    "        matchflag = 0\n",
    "\n",
    "    return imatch, matchflag,nmatch\n"
   ]
  },
  {
   "cell_type": "code",
   "execution_count": 125,
   "metadata": {
    "collapsed": true
   },
   "outputs": [],
   "source": [
    "asu1 = fits.getdata('asu.fit',1)\n",
    "asu2 = fits.getdata('asu.fit',2)\n",
    "asu3 = fits.getdata('asu.fit',3)\n",
    "nsadat =fits.getdata('nsa_v0_1_2.fits')"
   ]
  },
  {
   "cell_type": "code",
   "execution_count": 4,
   "metadata": {
    "collapsed": false
   },
   "outputs": [],
   "source": [
    "for i in range(len(asu1._DE)):\n",
    "    asu1._DE[i] = asu1._DE[i].rstrip(\"\\r\").rstrip(\"+\")"
   ]
  },
  {
   "cell_type": "code",
   "execution_count": null,
   "metadata": {
    "collapsed": false
   },
   "outputs": [
    {
     "name": "stdout",
     "output_type": "stream",
     "text": [
      "(array([  2015, 879727]), 1, 2)\n"
     ]
    }
   ],
   "source": [
    "matchRadius=0.1/3600\n",
    "\n",
    "imatch=np.zeros(len(nsadat.RA),'i')\n",
    "matchflag=np.zeros(len(nsadat.RA),'bool')\n",
    "nmatch=np.zeros(len(nsadat.RA),'i')\n",
    "RA = asu1._RA.astype(np.float32)\n",
    "DEC = asu1._DE.astype(np.float32)\n",
    "for i in range(len(nsadat.RA)):\n",
    "    t = findnearest(nsadat.RA[i],nsadat.DEC[i],RA,DEC,matchRadius)\n",
    "    try:\n",
    "        imatch[i],matchflag[i],nmatch[i]  =  t\n",
    "    except ValueError:\n",
    "        print t\n",
    "        d1 = abs(nsadat.Z[i] - asu1.z[t[0][0]].astype(np.float32))\n",
    "        d2 = abs(nsadat.Z[i] - asu1.z[t[0][1]].astype(np.float32))\n",
    "        if d1 < d2:\n",
    "            imatch[i],matchflag[i],nmatch[i] = t[0][0],t[1],t[2]\n",
    "        else:\n",
    "            imatch[i],matchflag[i],nmatch[i] = t[0][1],t[1],t[2]\n",
    "outfile='Simard1ToNSA.fits'\n",
    "matchedarray=np.zeros(len(nsadat),dtype=asu1.dtype)\n",
    "matchedarray[matchflag] = asu1[imatch[matchflag]]\n",
    "new = []\n",
    "for i in range(len(matchedarray)): # row\n",
    "    for j in range(len(matchedarray[0])): #column\n",
    "        if len(new)<62:\n",
    "            new.append([])\n",
    "        new[j].append(matchedarray[i][j])\n",
    "headers = asu1.names\n",
    "i = 0\n",
    "cols = []\n",
    "for n in headers:\n",
    "    colnum = fits.Column(name=n,format=asu1.formats[i],array=new[i])\n",
    "    cols.append(colnum)\n",
    "    i = i+1\n",
    "newcol = fits.ColDefs(cols)\n",
    "hdu = fits.BinTableHDU.from_columns(newcol)\n",
    "hdu.writeto(outfile,clobber=True)"
   ]
  }
 ],
 "metadata": {
  "kernelspec": {
   "display_name": "Python 2",
   "language": "python",
   "name": "python2"
  },
  "language_info": {
   "codemirror_mode": {
    "name": "ipython",
    "version": 2
   },
   "file_extension": ".py",
   "mimetype": "text/x-python",
   "name": "python",
   "nbconvert_exporter": "python",
   "pygments_lexer": "ipython2",
   "version": "2.7.11"
  }
 },
 "nbformat": 4,
 "nbformat_minor": 0
}
