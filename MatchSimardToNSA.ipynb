{
 "cells": [
  {
   "cell_type": "markdown",
   "metadata": {},
   "source": [
    "Goal:  \n",
    "Combine the NSAYang catalog with the Simard catalog to include sersic fits\n",
    "\n",
    "Required Files:\n",
    "* The NASA Sloan Atlas catalog (nsa_v0_1_2.fits) found here http://www.nsatlas.org/data\n",
    "* asu.fit\n",
    "\n",
    "Obtaining asu.fit:\n",
    "1. http://vizier.cfa.harvard.edu/viz-bin/VizieR?-source=J/ApJS/196/11\n",
    "2. Check all boxes and click \"Join selected tables\"\n",
    "3. Scroll down and check \"ALL col\" then uncheck \"All\", \"Sloan\", and \"DR7\"\n",
    "4. Click any of the submit buttons\n",
    "5. On the left in the \"Preferences\" box change \"max\" to unlimited, \"HTML Table\" to \"FITS (binary) table, and then click submit\n",
    "\n",
    "Notes:\n",
    "* All entries in asu.fit are strings. Can be changed to floats using np.astype(np.float32)\n",
    "* updated on 10/10/16 by R Finn to streamline matching and preserve data types in matched output catalog.  Changed Grant's instructions to download asu.fits as a binary fits, not an ascii fits table."
   ]
  },
  {
   "cell_type": "code",
   "execution_count": 1,
   "metadata": {
    "collapsed": false
   },
   "outputs": [
    {
     "name": "stderr",
     "output_type": "stream",
     "text": [
      "//anaconda/lib/python2.7/site-packages/matplotlib/font_manager.py:273: UserWarning: Matplotlib is building the font cache using fc-list. This may take a moment.\n",
      "  warnings.warn('Matplotlib is building the font cache using fc-list. This may take a moment.')\n"
     ]
    }
   ],
   "source": [
    "import csv\n",
    "import numpy as np\n",
    "from astropy.io import fits\n",
    "import fnmatch\n",
    "import time\n",
    "import argparse\n",
    "from astropy.coordinates import ICRS, SkyCoord\n",
    "from astropy import units as u\n",
    "from matplotlib import pyplot as plt\n",
    "%matplotlib inline"
   ]
  },
  {
   "cell_type": "code",
   "execution_count": 2,
   "metadata": {
    "collapsed": false
   },
   "outputs": [
    {
     "name": "stderr",
     "output_type": "stream",
     "text": [
      "usage: __main__.py [-h] [--simard-path] [--nsa-path]\n",
      "__main__.py: error: unrecognized arguments: -f /Users/rfinn/Library/Jupyter/runtime/kernel-25943f98-ba56-4304-a522-f578acd6b2a8.json\n"
     ]
    }
   ],
   "source": [
    "try:\n",
    "    parser = argparse.ArgumentParser(description ='Match the NSA catalog with the Simard catalogs')\n",
    "    parser.add_argument('--simard-path', dest = 'spath', default = '/Users/rfinn/research/SimardSDSS2011/', action = 'store_true', help = 'path to Simard+2011 catalog asu.fit')\n",
    "    parser.add_argument('--nsa-path', dest = 'path', default = '/Users/rfinn/research/NSA/', action = 'store_true', help = 'path to NSA catalog nsa_v0_1_2.fits')\n",
    "    args = parser.parse_args()\n",
    "    simardpath = args.spath\n",
    "    nsapath = args.path\n",
    "except:\n",
    "    simardpath = '/Users/rfinn/research/SimardSDSS2011/'\n",
    "    nsapath = '/Users/rfinn/research/NSA/'"
   ]
  },
  {
   "cell_type": "code",
   "execution_count": 3,
   "metadata": {
    "collapsed": false
   },
   "outputs": [],
   "source": [
    "asu1 = fits.getdata(simardpath+'asu.fit',1)\n",
    "asu2 = fits.getdata(simardpath+'asu.fit',2)\n",
    "asu3 = fits.getdata(simardpath+'asu.fit',3)\n",
    "\n",
    "nsadat = fits.getdata(nsapath+'nsa_v0_1_2.fits')"
   ]
  },
  {
   "cell_type": "code",
   "execution_count": 4,
   "metadata": {
    "collapsed": false
   },
   "outputs": [],
   "source": [
    "nsacat = SkyCoord(nsadat.RA*u.degree,nsadat.DEC*u.degree,frame='icrs')\n",
    "simardcat = SkyCoord(asu1._RA*u.degree,asu1._DE*u.degree,frame='icrs')"
   ]
  },
  {
   "cell_type": "code",
   "execution_count": 5,
   "metadata": {
    "collapsed": true
   },
   "outputs": [],
   "source": [
    "# match Simard+2011 Table 1 to NSA\n",
    "index,dist2d,dist3d = nsacat.match_to_catalog_sky(simardcat)"
   ]
  },
  {
   "cell_type": "code",
   "execution_count": 16,
   "metadata": {
    "collapsed": true
   },
   "outputs": [],
   "source": [
    "# only keep matches with matched RA and Dec w/in 1 arcsec\n",
    "matchflag = dist2d.degree < 2./3600"
   ]
  },
  {
   "cell_type": "code",
   "execution_count": 17,
   "metadata": {
    "collapsed": true
   },
   "outputs": [],
   "source": [
    "# write out line-matched catalog\n",
    "outfile='Simard1ToNSA.fits'\n",
    "matchedarray1=np.zeros(len(nsadat),dtype=asu1.dtype)\n",
    "matchedarray1[matchflag] = asu1[index[matchflag]]\n",
    "fits.writeto(outfile,matchedarray1,clobber=True)"
   ]
  },
  {
   "cell_type": "code",
   "execution_count": 18,
   "metadata": {
    "collapsed": true
   },
   "outputs": [],
   "source": [
    "# write out line-matched catalog\n",
    "outfile='Simard2ToNSA.fits'\n",
    "matchedarray1=np.zeros(len(nsadat),dtype=asu2.dtype)\n",
    "matchedarray1[matchflag] = asu2[index[matchflag]]\n",
    "fits.writeto(outfile,matchedarray1,clobber=True)"
   ]
  },
  {
   "cell_type": "code",
   "execution_count": 19,
   "metadata": {
    "collapsed": true
   },
   "outputs": [],
   "source": [
    "# write out line-matched catalog\n",
    "outfile='Simard3ToNSA.fits'\n",
    "matchedarray1=np.zeros(len(nsadat),dtype=asu3.dtype)\n",
    "matchedarray1[matchflag] = asu3[index[matchflag]]\n",
    "fits.writeto(outfile,matchedarray1,clobber=True)"
   ]
  }
 ],
 "metadata": {
  "anaconda-cloud": {},
  "kernelspec": {
   "display_name": "Python [default]",
   "language": "python",
   "name": "python2"
  },
  "language_info": {
   "codemirror_mode": {
    "name": "ipython",
    "version": 2
   },
   "file_extension": ".py",
   "mimetype": "text/x-python",
   "name": "python",
   "nbconvert_exporter": "python",
   "pygments_lexer": "ipython2",
   "version": "2.7.12"
  }
 },
 "nbformat": 4,
 "nbformat_minor": 0
}
