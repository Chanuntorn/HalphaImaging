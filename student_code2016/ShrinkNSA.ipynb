{
 "cells": [
  {
   "cell_type": "markdown",
   "metadata": {},
   "source": [
    "Creates a smaller version of the NSA catalog containing only the RA, DEC, and Z of objects with a DEC > -5"
   ]
  },
  {
   "cell_type": "code",
   "execution_count": 1,
   "metadata": {
    "collapsed": true
   },
   "outputs": [],
   "source": [
    "from astropy.io import fits\n",
    "import numpy as np"
   ]
  },
  {
   "cell_type": "code",
   "execution_count": 2,
   "metadata": {
    "collapsed": true
   },
   "outputs": [],
   "source": [
    "nsadat =fits.getdata('nsa_v0_1_2.fits')"
   ]
  },
  {
   "cell_type": "code",
   "execution_count": 11,
   "metadata": {
    "collapsed": false
   },
   "outputs": [],
   "source": [
    "flag = [nsadat.DEC >-5]\n",
    "\n",
    "d = nsadat.DEC[flag]\n",
    "r = nsadat.RA[flag]\n",
    "z = nsadat.Z[flag]\n",
    "\n",
    "colr = fits.Column(name='RA',format=nsadat.formats[2],array=r)\n",
    "cold = fits.Column(name='DEC',format=nsadat.formats[3],array=d)\n",
    "colz = fits.Column(name='Z',format=nsadat.formats[11],array=z)\n",
    "newcol = fits.ColDefs([colr,cold,colz])\n",
    "hdu = fits.BinTableHDU.from_columns(newcol)\n",
    "hdu.writeto('nsa_uat.fits',clobber=True)"
   ]
  }
 ],
 "metadata": {
  "kernelspec": {
   "display_name": "Python 2",
   "language": "python",
   "name": "python2"
  },
  "language_info": {
   "codemirror_mode": {
    "name": "ipython",
    "version": 2
   },
   "file_extension": ".py",
   "mimetype": "text/x-python",
   "name": "python",
   "nbconvert_exporter": "python",
   "pygments_lexer": "ipython2",
   "version": "2.7.11"
  }
 },
 "nbformat": 4,
 "nbformat_minor": 0
}
