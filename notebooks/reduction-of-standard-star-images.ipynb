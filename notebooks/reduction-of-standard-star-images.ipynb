{
 "cells": [
  {
   "cell_type": "code",
   "execution_count": 1,
   "metadata": {
    "collapsed": false
   },
   "outputs": [],
   "source": [
    "import os\n",
    "import numpy as np\n",
    "from matplotlib import pyplot as plt\n",
    "%matplotlib inline\n",
    "\n"
   ]
  },
  {
   "cell_type": "code",
   "execution_count": 3,
   "metadata": {
    "collapsed": true
   },
   "outputs": [],
   "source": [
    "datadir = '/Users/rfinn/research/HalphaGroups/reduced_data/HDI/20150418'\n",
    "os.chdir(datadir)"
   ]
  },
  {
   "cell_type": "markdown",
   "metadata": {},
   "source": [
    "## Comparing with Standard Stars ##\n",
    "\n",
    "As part of testing the zeropoint calibration code, getzp.py, I want to calibrate the standard star images, and then measure the magnitudes of the Landolt standard stars.\n",
    "\n",
    "I apparently moved a number of the standard star files to junk, so I will need to reduce these images through flatfielding.\n",
    "\n",
    "I copied all standard files from raw directory:\n",
    "\n",
    "```\n",
    "cp ../../../rawdata/20150418/c7131t00{19..25}o00.fits standards_raw/\n",
    "cp ../../../rawdata/20150418/c7131t00{70..74}o00.fits standards_raw/.\n",
    "```\n",
    "\n",
    "More details on the zeropoint calibration are in the notebook siena-union-phot-zp-comparison."
   ]
  },
  {
   "cell_type": "code",
   "execution_count": 3,
   "metadata": {
    "collapsed": true
   },
   "outputs": [],
   "source": [
    "os.chdir('/Users/rfinn/research/HalphaGroups/reduced_data/HDI/20150418/standards_raw/')\n",
    "\n"
   ]
  },
  {
   "cell_type": "markdown",
   "metadata": {},
   "source": [
    "\n",
    "### Trim Images ###"
   ]
  },
  {
   "cell_type": "code",
   "execution_count": 8,
   "metadata": {
    "collapsed": false
   },
   "outputs": [
    {
     "name": "stdout",
     "output_type": "stream",
     "text": [
      "working on  c7131t0019o00.fits\n",
      "INFO: first HDU with data is extension 1. [astropy.nddata.ccddata]\n",
      "INFO: using the unit adu passed to the FITS reader instead of the unit adu in the FITS file. [astropy.nddata.ccddata]\n",
      "INFO: An exception happened while extracting WCS informations from the Header.\n",
      "SingularMatrixError: ERROR 3 in wcsset() at line 2213 of file cextern/wcslib/C/wcs.c:\n",
      "Linear transformation matrix is singular.\n",
      "ERROR 3 in linset() at line 648 of file cextern/wcslib/C/lin.c:\n",
      "PCi_ja matrix is singular.\n",
      " [astropy.nddata.ccddata]\n",
      "working on  c7131t0020o00.fits\n",
      "INFO: first HDU with data is extension 1. [astropy.nddata.ccddata]\n",
      "INFO: using the unit adu passed to the FITS reader instead of the unit adu in the FITS file. [astropy.nddata.ccddata]\n",
      "INFO: An exception happened while extracting WCS informations from the Header.\n",
      "SingularMatrixError: ERROR 3 in wcsset() at line 2213 of file cextern/wcslib/C/wcs.c:\n",
      "Linear transformation matrix is singular.\n",
      "ERROR 3 in linset() at line 648 of file cextern/wcslib/C/lin.c:\n",
      "PCi_ja matrix is singular.\n",
      " [astropy.nddata.ccddata]\n"
     ]
    },
    {
     "name": "stderr",
     "output_type": "stream",
     "text": [
      "WARNING: FITSFixedWarning: 'datfix' made the change 'Changed '2015-04-19 02:43:24.853' to '2015-04-19T02:43:24.853''. [astropy.wcs.wcs]\n"
     ]
    },
    {
     "name": "stdout",
     "output_type": "stream",
     "text": [
      "working on  c7131t0021o00.fits\n",
      "INFO: first HDU with data is extension 1. [astropy.nddata.ccddata]\n",
      "INFO: using the unit adu passed to the FITS reader instead of the unit adu in the FITS file. [astropy.nddata.ccddata]\n",
      "INFO: An exception happened while extracting WCS informations from the Header.\n",
      "SingularMatrixError: ERROR 3 in wcsset() at line 2213 of file cextern/wcslib/C/wcs.c:\n",
      "Linear transformation matrix is singular.\n",
      "ERROR 3 in linset() at line 648 of file cextern/wcslib/C/lin.c:\n",
      "PCi_ja matrix is singular.\n",
      " [astropy.nddata.ccddata]\n"
     ]
    },
    {
     "name": "stderr",
     "output_type": "stream",
     "text": [
      "WARNING: FITSFixedWarning: 'datfix' made the change 'Changed '2015-04-19 02:47:17.139' to '2015-04-19T02:47:17.139''. [astropy.wcs.wcs]\n"
     ]
    },
    {
     "name": "stdout",
     "output_type": "stream",
     "text": [
      "working on  c7131t0022o00.fits\n",
      "INFO: first HDU with data is extension 1. [astropy.nddata.ccddata]\n",
      "INFO: using the unit adu passed to the FITS reader instead of the unit adu in the FITS file. [astropy.nddata.ccddata]\n",
      "INFO: An exception happened while extracting WCS informations from the Header.\n",
      "SingularMatrixError: ERROR 3 in wcsset() at line 2213 of file cextern/wcslib/C/wcs.c:\n",
      "Linear transformation matrix is singular.\n",
      "ERROR 3 in linset() at line 648 of file cextern/wcslib/C/lin.c:\n",
      "PCi_ja matrix is singular.\n",
      " [astropy.nddata.ccddata]\n"
     ]
    },
    {
     "name": "stderr",
     "output_type": "stream",
     "text": [
      "WARNING: FITSFixedWarning: 'datfix' made the change 'Changed '2015-04-19 02:50:32.880' to '2015-04-19T02:50:32.880''. [astropy.wcs.wcs]\n"
     ]
    },
    {
     "name": "stdout",
     "output_type": "stream",
     "text": [
      "working on  c7131t0023o00.fits\n",
      "INFO: first HDU with data is extension 1. [astropy.nddata.ccddata]\n",
      "INFO: using the unit adu passed to the FITS reader instead of the unit adu in the FITS file. [astropy.nddata.ccddata]\n",
      "INFO: An exception happened while extracting WCS informations from the Header.\n",
      "SingularMatrixError: ERROR 3 in wcsset() at line 2213 of file cextern/wcslib/C/wcs.c:\n",
      "Linear transformation matrix is singular.\n",
      "ERROR 3 in linset() at line 648 of file cextern/wcslib/C/lin.c:\n",
      "PCi_ja matrix is singular.\n",
      " [astropy.nddata.ccddata]\n"
     ]
    },
    {
     "name": "stderr",
     "output_type": "stream",
     "text": [
      "WARNING: FITSFixedWarning: 'datfix' made the change 'Changed '2015-04-19 02:53:52.945' to '2015-04-19T02:53:52.945''. [astropy.wcs.wcs]\n"
     ]
    },
    {
     "name": "stdout",
     "output_type": "stream",
     "text": [
      "working on  c7131t0024o00.fits\n",
      "INFO: first HDU with data is extension 1. [astropy.nddata.ccddata]\n",
      "INFO: using the unit adu passed to the FITS reader instead of the unit adu in the FITS file. [astropy.nddata.ccddata]\n",
      "INFO: An exception happened while extracting WCS informations from the Header.\n",
      "SingularMatrixError: ERROR 3 in wcsset() at line 2213 of file cextern/wcslib/C/wcs.c:\n",
      "Linear transformation matrix is singular.\n",
      "ERROR 3 in linset() at line 648 of file cextern/wcslib/C/lin.c:\n",
      "PCi_ja matrix is singular.\n",
      " [astropy.nddata.ccddata]\n"
     ]
    },
    {
     "name": "stderr",
     "output_type": "stream",
     "text": [
      "WARNING: FITSFixedWarning: 'datfix' made the change 'Changed '2015-04-19 02:57:44.285' to '2015-04-19T02:57:44.285''. [astropy.wcs.wcs]\n"
     ]
    },
    {
     "name": "stdout",
     "output_type": "stream",
     "text": [
      "working on  c7131t0025o00.fits\n",
      "INFO: first HDU with data is extension 1. [astropy.nddata.ccddata]\n",
      "INFO: using the unit adu passed to the FITS reader instead of the unit adu in the FITS file. [astropy.nddata.ccddata]\n",
      "INFO: An exception happened while extracting WCS informations from the Header.\n",
      "SingularMatrixError: ERROR 3 in wcsset() at line 2213 of file cextern/wcslib/C/wcs.c:\n",
      "Linear transformation matrix is singular.\n",
      "ERROR 3 in linset() at line 648 of file cextern/wcslib/C/lin.c:\n",
      "PCi_ja matrix is singular.\n",
      " [astropy.nddata.ccddata]\n"
     ]
    },
    {
     "name": "stderr",
     "output_type": "stream",
     "text": [
      "WARNING: FITSFixedWarning: 'datfix' made the change 'Changed '2015-04-19 03:00:50.318' to '2015-04-19T03:00:50.318''. [astropy.wcs.wcs]\n"
     ]
    },
    {
     "name": "stdout",
     "output_type": "stream",
     "text": [
      "working on  c7131t0070o00.fits\n",
      "INFO: first HDU with data is extension 1. [astropy.nddata.ccddata]\n",
      "INFO: using the unit adu passed to the FITS reader instead of the unit adu in the FITS file. [astropy.nddata.ccddata]\n",
      "INFO: An exception happened while extracting WCS informations from the Header.\n",
      "SingularMatrixError: ERROR 3 in wcsset() at line 2213 of file cextern/wcslib/C/wcs.c:\n",
      "Linear transformation matrix is singular.\n",
      "ERROR 3 in linset() at line 648 of file cextern/wcslib/C/lin.c:\n",
      "PCi_ja matrix is singular.\n",
      " [astropy.nddata.ccddata]\n"
     ]
    },
    {
     "name": "stderr",
     "output_type": "stream",
     "text": [
      "WARNING: FITSFixedWarning: 'datfix' made the change 'Changed '2015-04-19 11:43:46.502' to '2015-04-19T11:43:46.502''. [astropy.wcs.wcs]\n"
     ]
    },
    {
     "name": "stdout",
     "output_type": "stream",
     "text": [
      "working on  c7131t0071o00.fits\n",
      "INFO: first HDU with data is extension 1. [astropy.nddata.ccddata]\n",
      "INFO: using the unit adu passed to the FITS reader instead of the unit adu in the FITS file. [astropy.nddata.ccddata]\n",
      "INFO: An exception happened while extracting WCS informations from the Header.\n",
      "SingularMatrixError: ERROR 3 in wcsset() at line 2213 of file cextern/wcslib/C/wcs.c:\n",
      "Linear transformation matrix is singular.\n",
      "ERROR 3 in linset() at line 648 of file cextern/wcslib/C/lin.c:\n",
      "PCi_ja matrix is singular.\n",
      " [astropy.nddata.ccddata]\n"
     ]
    },
    {
     "name": "stderr",
     "output_type": "stream",
     "text": [
      "WARNING: FITSFixedWarning: 'datfix' made the change 'Changed '2015-04-19 11:46:34.657' to '2015-04-19T11:46:34.657''. [astropy.wcs.wcs]\n"
     ]
    },
    {
     "name": "stdout",
     "output_type": "stream",
     "text": [
      "working on  c7131t0072o00.fits\n",
      "INFO: first HDU with data is extension 1. [astropy.nddata.ccddata]\n",
      "INFO: using the unit adu passed to the FITS reader instead of the unit adu in the FITS file. [astropy.nddata.ccddata]\n",
      "INFO: An exception happened while extracting WCS informations from the Header.\n",
      "SingularMatrixError: ERROR 3 in wcsset() at line 2213 of file cextern/wcslib/C/wcs.c:\n",
      "Linear transformation matrix is singular.\n",
      "ERROR 3 in linset() at line 648 of file cextern/wcslib/C/lin.c:\n",
      "PCi_ja matrix is singular.\n",
      " [astropy.nddata.ccddata]\n"
     ]
    },
    {
     "name": "stderr",
     "output_type": "stream",
     "text": [
      "WARNING: FITSFixedWarning: 'datfix' made the change 'Changed '2015-04-19 11:48:41.720' to '2015-04-19T11:48:41.720''. [astropy.wcs.wcs]\n"
     ]
    },
    {
     "name": "stdout",
     "output_type": "stream",
     "text": [
      "working on  c7131t0073o00.fits\n",
      "INFO: first HDU with data is extension 1. [astropy.nddata.ccddata]\n",
      "INFO: using the unit adu passed to the FITS reader instead of the unit adu in the FITS file. [astropy.nddata.ccddata]\n",
      "INFO: An exception happened while extracting WCS informations from the Header.\n",
      "SingularMatrixError: ERROR 3 in wcsset() at line 2213 of file cextern/wcslib/C/wcs.c:\n",
      "Linear transformation matrix is singular.\n",
      "ERROR 3 in linset() at line 648 of file cextern/wcslib/C/lin.c:\n",
      "PCi_ja matrix is singular.\n",
      " [astropy.nddata.ccddata]\n"
     ]
    },
    {
     "name": "stderr",
     "output_type": "stream",
     "text": [
      "WARNING: FITSFixedWarning: 'datfix' made the change 'Changed '2015-04-19 11:50:34.405' to '2015-04-19T11:50:34.405''. [astropy.wcs.wcs]\n"
     ]
    },
    {
     "name": "stdout",
     "output_type": "stream",
     "text": [
      "working on  c7131t0074o00.fits\n",
      "INFO: first HDU with data is extension 1. [astropy.nddata.ccddata]\n",
      "INFO: using the unit adu passed to the FITS reader instead of the unit adu in the FITS file. [astropy.nddata.ccddata]\n",
      "INFO: An exception happened while extracting WCS informations from the Header.\n",
      "SingularMatrixError: ERROR 3 in wcsset() at line 2213 of file cextern/wcslib/C/wcs.c:\n",
      "Linear transformation matrix is singular.\n",
      "ERROR 3 in linset() at line 648 of file cextern/wcslib/C/lin.c:\n",
      "PCi_ja matrix is singular.\n",
      " [astropy.nddata.ccddata]\n"
     ]
    },
    {
     "name": "stderr",
     "output_type": "stream",
     "text": [
      "WARNING: FITSFixedWarning: 'datfix' made the change 'Changed '2015-04-19 11:53:51.729' to '2015-04-19T11:53:51.729''. [astropy.wcs.wcs]\n"
     ]
    }
   ],
   "source": [
    "%run ~/github/HalphaImaging/uat_overscantrim.py --filestring 'c'\n",
    "\n"
   ]
  },
  {
   "cell_type": "code",
   "execution_count": 9,
   "metadata": {
    "collapsed": false
   },
   "outputs": [
    {
     "name": "stdout",
     "output_type": "stream",
     "text": [
      "ZAPPING COSMIC RAYS FOR FILE 1 OF 12\n",
      "('working on ', 'trc7131t0019o00.fits')\n",
      "\n",
      "\n",
      "ZAPPING COSMIC RAYS FOR FILE 2 OF 12\n",
      "('working on ', 'trc7131t0020o00.fits')\n",
      "\n",
      "\n",
      "ZAPPING COSMIC RAYS FOR FILE 3 OF 12\n",
      "('working on ', 'trc7131t0021o00.fits')\n",
      "\n",
      "\n",
      "ZAPPING COSMIC RAYS FOR FILE 4 OF 12\n",
      "('working on ', 'trc7131t0022o00.fits')\n",
      "\n",
      "\n",
      "ZAPPING COSMIC RAYS FOR FILE 5 OF 12\n",
      "('working on ', 'trc7131t0023o00.fits')\n",
      "\n",
      "\n",
      "ZAPPING COSMIC RAYS FOR FILE 6 OF 12\n",
      "('working on ', 'trc7131t0024o00.fits')\n",
      "\n",
      "\n",
      "ZAPPING COSMIC RAYS FOR FILE 7 OF 12\n",
      "('working on ', 'trc7131t0025o00.fits')\n",
      "\n",
      "\n",
      "ZAPPING COSMIC RAYS FOR FILE 8 OF 12\n",
      "('working on ', 'trc7131t0070o00.fits')\n",
      "\n",
      "\n",
      "ZAPPING COSMIC RAYS FOR FILE 9 OF 12\n",
      "('working on ', 'trc7131t0071o00.fits')\n",
      "\n",
      "\n",
      "ZAPPING COSMIC RAYS FOR FILE 10 OF 12\n",
      "('working on ', 'trc7131t0072o00.fits')\n",
      "\n",
      "\n",
      "ZAPPING COSMIC RAYS FOR FILE 11 OF 12\n",
      "('working on ', 'trc7131t0073o00.fits')\n",
      "\n",
      "\n",
      "ZAPPING COSMIC RAYS FOR FILE 12 OF 12\n",
      "('working on ', 'trc7131t0074o00.fits')\n",
      "\n",
      "\n"
     ]
    }
   ],
   "source": [
    "%run ~/github/HalphaImaging/uat_zapcosmicrays.py \n"
   ]
  },
  {
   "cell_type": "code",
   "execution_count": 11,
   "metadata": {
    "collapsed": false
   },
   "outputs": [
    {
     "name": "stdout",
     "output_type": "stream",
     "text": [
      "these are the filters I got:  set(['ha8', 'ha12', 'R', 'ha16'])\n",
      "PROCESSING IMAGES IN FILTER  ha8\n",
      "objectgroup =  object_ha8\n",
      "PROCESSING IMAGES IN FILTER  ha12\n",
      "objectgroup =  object_ha12\n",
      "PROCESSING IMAGES IN FILTER  R\n",
      "objectgroup =  object_R\n",
      "PROCESSING IMAGES IN FILTER  ha16\n",
      "objectgroup =  object_ha16\n"
     ]
    }
   ],
   "source": [
    "%run ~/github/HalphaImaging/uat_HDIflattenwithdome.py \n"
   ]
  },
  {
   "cell_type": "code",
   "execution_count": 12,
   "metadata": {
    "collapsed": false
   },
   "outputs": [
    {
     "name": "stdout",
     "output_type": "stream",
     "text": [
      "FIXING HEADER FOR FILE 1 OF 12\n",
      "WRITING UPDATED FILE\n"
     ]
    },
    {
     "name": "stderr",
     "output_type": "stream",
     "text": [
      "WARNING: AstropyDeprecationWarning: \"clobber\" was deprecated in version 2.0 and will be removed in a future version. Use argument \"overwrite\" instead. [__main__]\n"
     ]
    },
    {
     "name": "stdout",
     "output_type": "stream",
     "text": [
      "\n",
      "\n",
      "FIXING HEADER FOR FILE 2 OF 12\n",
      "WRITING UPDATED FILE\n",
      "\n",
      "\n",
      "FIXING HEADER FOR FILE 3 OF 12\n",
      "WRITING UPDATED FILE\n",
      "\n",
      "\n",
      "FIXING HEADER FOR FILE 4 OF 12\n",
      "WRITING UPDATED FILE\n",
      "\n",
      "\n",
      "FIXING HEADER FOR FILE 5 OF 12\n",
      "WRITING UPDATED FILE\n",
      "\n",
      "\n",
      "FIXING HEADER FOR FILE 6 OF 12\n",
      "WRITING UPDATED FILE\n",
      "\n",
      "\n",
      "FIXING HEADER FOR FILE 7 OF 12\n",
      "WRITING UPDATED FILE\n",
      "\n",
      "\n",
      "FIXING HEADER FOR FILE 8 OF 12\n",
      "WRITING UPDATED FILE\n",
      "\n",
      "\n",
      "FIXING HEADER FOR FILE 9 OF 12\n",
      "WRITING UPDATED FILE\n",
      "\n",
      "\n",
      "FIXING HEADER FOR FILE 10 OF 12\n",
      "WRITING UPDATED FILE\n",
      "\n",
      "\n",
      "FIXING HEADER FOR FILE 11 OF 12\n",
      "WRITING UPDATED FILE\n",
      "\n",
      "\n",
      "FIXING HEADER FOR FILE 12 OF 12\n",
      "WRITING UPDATED FILE\n",
      "\n",
      "\n"
     ]
    }
   ],
   "source": [
    "%run ~/github/HalphaImaging/uat_HDIfixheader.py\n"
   ]
  },
  {
   "cell_type": "code",
   "execution_count": 50,
   "metadata": {
    "collapsed": false
   },
   "outputs": [
    {
     "name": "stdout",
     "output_type": "stream",
     "text": [
      "('testing ', None)\n",
      "('number of files = ', 24)\n",
      "RUNNING SEXTRACTOR ON FILE 1 OF 24\n",
      "RUNNING SEXTRACTOR ON FILE 2 OF 24\n",
      "RUNNING SEXTRACTOR ON FILE 3 OF 24\n",
      "RUNNING SEXTRACTOR ON FILE 4 OF 24\n",
      "RUNNING SEXTRACTOR ON FILE 5 OF 24\n",
      "RUNNING SEXTRACTOR ON FILE 6 OF 24\n",
      "RUNNING SEXTRACTOR ON FILE 7 OF 24\n",
      "RUNNING SEXTRACTOR ON FILE 8 OF 24\n",
      "RUNNING SEXTRACTOR ON FILE 9 OF 24\n",
      "RUNNING SEXTRACTOR ON FILE 10 OF 24\n",
      "RUNNING SEXTRACTOR ON FILE 11 OF 24\n",
      "RUNNING SEXTRACTOR ON FILE 12 OF 24\n",
      "RUNNING SEXTRACTOR ON FILE 13 OF 24\n",
      "RUNNING SEXTRACTOR ON FILE 14 OF 24\n",
      "RUNNING SEXTRACTOR ON FILE 15 OF 24\n",
      "RUNNING SEXTRACTOR ON FILE 16 OF 24\n",
      "RUNNING SEXTRACTOR ON FILE 17 OF 24\n",
      "RUNNING SEXTRACTOR ON FILE 18 OF 24\n",
      "RUNNING SEXTRACTOR ON FILE 19 OF 24\n",
      "RUNNING SEXTRACTOR ON FILE 20 OF 24\n",
      "RUNNING SEXTRACTOR ON FILE 21 OF 24\n",
      "RUNNING SEXTRACTOR ON FILE 22 OF 24\n",
      "RUNNING SEXTRACTOR ON FILE 23 OF 24\n",
      "RUNNING SEXTRACTOR ON FILE 24 OF 24\n"
     ]
    }
   ],
   "source": [
    "%run ~/github/HalphaImaging/uat_astr_mosaic.py --filestring 'hdz' --s\n",
    "\n"
   ]
  },
  {
   "cell_type": "code",
   "execution_count": 14,
   "metadata": {
    "collapsed": false
   },
   "outputs": [
    {
     "name": "stdout",
     "output_type": "stream",
     "text": [
      "('testing ', None)\n",
      "('number of files = ', 24)\n",
      "RUNNING SCAMP\n",
      "DONE\n"
     ]
    }
   ],
   "source": [
    "%run ~/github/HalphaImaging/uat_astr_mosaic.py --filestring 'hdz' --scamp\n"
   ]
  },
  {
   "cell_type": "markdown",
   "metadata": {},
   "source": [
    "### Minor Snag ###\n",
    "\n",
    "The next step is usually to run swarp, but we don't have multiple images of the standards.  thus, I am writing a code to merge the .head file produced by scamp with the original input image header.  I should then be able to run getzp on these images."
   ]
  },
  {
   "cell_type": "code",
   "execution_count": 54,
   "metadata": {
    "collapsed": false
   },
   "outputs": [
    {
     "name": "stdout",
     "output_type": "stream",
     "text": [
      "('reached end of header file for ', 'hdztrc7131t0019o00.fits')\n",
      "moving on to next image\n",
      "\n",
      "('no header file found for ', 'hdztrc7131t0019o00check.fits')\n",
      "moving to next image\n",
      "('no header file found for ', 'hdztrc7131t0019o00checkcheck.fits')\n",
      "moving to next image\n",
      "('reached end of header file for ', 'hdztrc7131t0020o00.fits')\n",
      "moving on to next image\n",
      "\n",
      "('no header file found for ', 'hdztrc7131t0020o00check.fits')\n",
      "moving to next image\n",
      "('no header file found for ', 'hdztrc7131t0020o00checkcheck.fits')\n",
      "moving to next image\n",
      "('reached end of header file for ', 'hdztrc7131t0021o00.fits')\n",
      "moving on to next image\n",
      "\n",
      "('no header file found for ', 'hdztrc7131t0021o00check.fits')\n",
      "moving to next image\n",
      "('no header file found for ', 'hdztrc7131t0021o00checkcheck.fits')\n",
      "moving to next image\n",
      "('reached end of header file for ', 'hdztrc7131t0022o00.fits')\n",
      "moving on to next image\n",
      "\n",
      "('no header file found for ', 'hdztrc7131t0022o00check.fits')\n",
      "moving to next image\n",
      "('no header file found for ', 'hdztrc7131t0022o00checkcheck.fits')\n",
      "moving to next image\n",
      "('reached end of header file for ', 'hdztrc7131t0023o00.fits')\n",
      "moving on to next image\n",
      "\n",
      "('no header file found for ', 'hdztrc7131t0023o00check.fits')\n",
      "moving to next image\n",
      "('no header file found for ', 'hdztrc7131t0023o00checkcheck.fits')\n",
      "moving to next image\n",
      "('reached end of header file for ', 'hdztrc7131t0024o00.fits')\n",
      "moving on to next image\n",
      "\n",
      "('no header file found for ', 'hdztrc7131t0024o00check.fits')\n",
      "moving to next image\n",
      "('no header file found for ', 'hdztrc7131t0024o00checkcheck.fits')\n",
      "moving to next image\n",
      "('reached end of header file for ', 'hdztrc7131t0025o00.fits')\n",
      "moving on to next image\n",
      "\n",
      "('no header file found for ', 'hdztrc7131t0025o00check.fits')\n",
      "moving to next image\n",
      "('no header file found for ', 'hdztrc7131t0025o00checkcheck.fits')\n",
      "moving to next image\n",
      "('reached end of header file for ', 'hdztrc7131t0070o00.fits')\n",
      "moving on to next image\n",
      "\n",
      "('no header file found for ', 'hdztrc7131t0070o00check.fits')\n",
      "moving to next image\n",
      "('no header file found for ', 'hdztrc7131t0070o00checkcheck.fits')\n",
      "moving to next image\n",
      "('reached end of header file for ', 'hdztrc7131t0071o00.fits')\n",
      "moving on to next image\n",
      "\n",
      "('no header file found for ', 'hdztrc7131t0071o00check.fits')\n",
      "moving to next image\n",
      "('no header file found for ', 'hdztrc7131t0071o00checkcheck.fits')\n",
      "moving to next image\n",
      "('reached end of header file for ', 'hdztrc7131t0072o00.fits')\n",
      "moving on to next image\n",
      "\n",
      "('no header file found for ', 'hdztrc7131t0072o00check.fits')\n",
      "moving to next image\n",
      "('no header file found for ', 'hdztrc7131t0072o00checkcheck.fits')\n",
      "moving to next image\n",
      "('reached end of header file for ', 'hdztrc7131t0073o00.fits')\n",
      "moving on to next image\n",
      "\n",
      "('no header file found for ', 'hdztrc7131t0073o00check.fits')\n",
      "moving to next image\n",
      "('no header file found for ', 'hdztrc7131t0073o00checkcheck.fits')\n",
      "moving to next image\n",
      "('reached end of header file for ', 'hdztrc7131t0074o00.fits')\n",
      "moving on to next image\n",
      "\n",
      "('no header file found for ', 'hdztrc7131t0074o00check.fits')\n",
      "moving to next image\n",
      "('no header file found for ', 'hdztrc7131t0074o00checkcheck.fits')\n",
      "moving to next image\n"
     ]
    }
   ],
   "source": [
    "%run ~/github/HalphaImaging/add_scamp_header.py --filestring 'hd*o00'\n"
   ]
  },
  {
   "cell_type": "markdown",
   "metadata": {},
   "source": [
    "## Solving for Zeropoint ##\n",
    "\n",
    "Now ready to solve for ZP of images.  I include one example below.\n",
    "\n",
    "\n",
    "\n"
   ]
  },
  {
   "cell_type": "code",
   "execution_count": 270,
   "metadata": {
    "collapsed": false
   },
   "outputs": [
    {
     "name": "stdout",
     "output_type": "stream",
     "text": [
      "nshdztrc7131t0019o00.fits\n",
      "saturation limit in ADU/s 5000.0\n",
      "sex nshdztrc7131t0019o00.fits -c default.sex.HDI -CATALOG_NAME nshdztrc7131t0019o00.cat -MAG_ZEROPOINT 0 -SATUR_LEVEL 5000.0\n",
      "('number of points retained = ', masked)\n",
      "new ZP = 0.000, previous ZP = -23.471\n",
      "('number of points retained = ', 71)\n",
      "new ZP = -23.471, previous ZP = -23.406\n",
      "('number of points retained = ', 69)\n",
      "new ZP = -23.406, previous ZP = -23.395\n",
      "('number of points retained = ', 65)\n",
      "new ZP = -23.395, previous ZP = -23.379\n",
      "('number of points retained = ', 63)\n",
      "new ZP = -23.379, previous ZP = -23.375\n",
      "('number of points retained = ', 63)\n",
      "new ZP = -23.375, previous ZP = -23.375\n",
      "working on this\n"
     ]
    },
    {
     "name": "stderr",
     "output_type": "stream",
     "text": [
      "/Users/rfinn/github/HalphaImaging/getzp.py:231: FutureWarning: comparison to `None` will result in an elementwise object comparison in the future.\n",
      "  if yerr:\n",
      "/Users/rfinn/github/HalphaImaging/getzp.py:246: FutureWarning: comparison to `None` will result in an elementwise object comparison in the future.\n",
      "  plt.errorbar(x,residual,yerr=yerr,fmt='bo',ecolor='b',label='MAG_AUTO')\n"
     ]
    },
    {
     "name": "stdout",
     "output_type": "stream",
     "text": [
      "ZP = 23.375 +/- 0.002\n"
     ]
    },
    {
     "data": {
      "image/png": "[encoded data removed]",
      "text/plain": [
       "<matplotlib.figure.Figure at 0x113018450>"
      ]
     },
     "metadata": {},
     "output_type": "display_data"
    },
    {
     "data": {
      "image/png": "[encoded data removed]",
      "text/plain": [
       "<matplotlib.figure.Figure at 0x112ecbad0>"
      ]
     },
     "metadata": {},
     "output_type": "display_data"
    }
   ],
   "source": [
    "%run ~/github/HalphaImaging/getzp.py --image shdztrc7131t0019o00.fits --instrument h --nexptime --naper 4\n",
    "plt.show()"
   ]
  },
  {
   "cell_type": "code",
   "execution_count": null,
   "metadata": {
    "collapsed": true
   },
   "outputs": [],
   "source": []
  }
 ],
 "metadata": {
  "kernelspec": {
   "display_name": "Python [conda env:anaconda]",
   "language": "python",
   "name": "conda-env-anaconda-py"
  },
  "language_info": {
   "codemirror_mode": {
    "name": "ipython",
    "version": 2
   },
   "file_extension": ".py",
   "mimetype": "text/x-python",
   "name": "python",
   "nbconvert_exporter": "python",
   "pygments_lexer": "ipython2",
   "version": "2.7.6"
  }
 },
 "nbformat": 4,
 "nbformat_minor": 2
}
