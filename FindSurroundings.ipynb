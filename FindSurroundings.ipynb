{
 "cells": [
  {
   "cell_type": "markdown",
   "metadata": {},
   "source": [
    "Goal:  \n",
    "Make code to take in RA, DEC, and Radius and return a matched catalog with all information on galaxies in that area\n"
   ]
  },
  {
   "cell_type": "code",
   "execution_count": 2,
   "metadata": {
    "collapsed": true
   },
   "outputs": [],
   "source": [
    "import numpy as np\n",
    "from astropy.io import fits"
   ]
  },
  {
   "cell_type": "code",
   "execution_count": 4,
   "metadata": {
    "collapsed": false
   },
   "outputs": [],
   "source": [
    "def findSurroundings(ra, dec, radius, prefix):\n",
    "    petro = fits.getdata('YangDR7PetroToNSA.fits')\n",
    "    model = fits.getdata('YangDR7ModelToNSA.fits')\n",
    "    nsadat = fits.getdata('nsa_v0_1_2.fits')\n",
    "    simard1 = fits.getdata('Simard1ToNSA.fits')\n",
    "    simard2 = fits.getdata('Simard2ToNSA.fits')\n",
    "    simard3 = fits.getdata('Simard3ToNSA.fits')\n",
    "    d=np.sqrt((ra-nsadat.RA)**2 + (dec-nsadat.DEC)**2)\n",
    "    index=np.arange(len(d))\n",
    "    matches=(d<=radius) # list of indices that are within the radius\n",
    "    print '%i entries found' % len(matches)\n",
    "    nsamatch = []\n",
    "    petromatch = []\n",
    "    modelmatch = []\n",
    "    simard1match = []\n",
    "    numcolumns = [len(nsadat[0]),len(petro[0]),len(model[0]),len(simard1[0]),len(simard2[0]),len(simard3[0])]\n",
    "    for i in range(len(matches)):\n",
    "        for j in range(max(numcolumns)):\n",
    "            if len(nsamatch)<len(nsadat[0]):\n",
    "                nsamatch.append([])\n",
    "            if len(petromatch)<len(petro[0]):\n",
    "                petromatch.append([])\n",
    "            if len(modelmatch)<len(model[0]):\n",
    "                modelmatch.append([])\n",
    "            if len(simard1match)<len(simard1[0]):\n",
    "                simard1match.append([]) \n",
    "            if len(simard2match)<len(simard2[0]):\n",
    "                simard2match.append([])\n",
    "            if len(simard3match)<len(simard3[0]):\n",
    "                simard3match.append([])\n",
    "            try:\n",
    "                nsamatch[j].append(nsadat[matches[i]][j])\n",
    "                simard1match[j].append(simard1[matches[i]][j])\n",
    "                simard2match[j].append(simard2[matches[i]][j])\n",
    "                simard3match[j].append(simard3[matches[i]][j])\n",
    "                petromatch[j].append(petro[matches[i]][j])\n",
    "                modelmatch[j].append(model[matches[i]][j])\n",
    "            except IndexError:\n",
    "                pass\n",
    "    nsacol = []\n",
    "    petrocol = []\n",
    "    modelcol = []\n",
    "    simard1col = []\n",
    "    simard3col = []\n",
    "    simard3col = []\n",
    "    for i in range(max(numcolumns)):\n",
    "        try:\n",
    "            print nsadat.names[i],nsadat.formats[i],nsadat.dtype[i]\n",
    "            ncol = fits.Column(name=nsadat.names[i],format=nsadat.formats[i],array=nsamatch[i])\n",
    "            nsacol.append(ncol)\n",
    "            s1col = fits.Column(name=simard1.names[i],format=simard1.formats[i],array=simard1match[i])\n",
    "            simard1col.append(s1col)\n",
    "            s2col = fits.Column(name=simard2.names[i],format=simard2.formats[i],array=simard2match[i])\n",
    "            simard2col.append(s2col)\n",
    "            s3col = fits.Column(name=simard3.names[i],format=simard3.formats[i],array=simard3match[i])\n",
    "            simard3col.append(s3col)\n",
    "            pcol = fits.Column(name=petro.names[i],format=petro.formats[i],array=petromatch[i])\n",
    "            petrocol.append(pcol)\n",
    "            mcol = fits.Column(name=model.names[i],format=model.formats[i],array=modelmatch[i])\n",
    "            modelcol.append(mcol)   \n",
    "        except IndexError:\n",
    "            pass\n",
    "    nsadefs = fits.ColDefs(nsacol)\n",
    "    petrodefs = fits.ColDefs(petrocol)\n",
    "    modeldefs = fits.ColDefs(modelcol)\n",
    "    simard1defs = fits.ColDefs(simard1col)\n",
    "    simard2defs = fits.ColDefs(simard2col)\n",
    "    simard3defs = fits.ColDefs(simard3col)\n",
    "    nsatable = fits.BinTableHDU.from_columns(nsadefs)\n",
    "    petrotable = fits.BinTableHDU.from_columns(petrodefs)\n",
    "    modeltable = fits.BinTableHDU.from_columns(modeldefs)\n",
    "    simard1table = fits.BinTableHDU.from_columns(simard1defs)\n",
    "    simard2table = fits.BinTableHDU.from_columns(simard2defs)\n",
    "    simard3table = fits.BinTableHDU.from_columns(simard3defs)\n",
    "    nsatable.writeto(prefix+'_NSA.fits',clobber=True)\n",
    "    petrotable.writeto(prefix+'_Petro.fits',clobber=True)\n",
    "    modeltable.writeto(prefix+'_Model.fits',clobber=True)\n",
    "    simard1table.writeto(prefix+'_Simard1.fits',clobber=True)\n",
    "    simard2table.writeto(prefix+'_Simard2.fits',clobber=True)\n",
    "    simard3table.writeto(prefix+'_Simard3.fits',clobber=True)"
   ]
  },
  {
   "cell_type": "code",
   "execution_count": 6,
   "metadata": {
    "collapsed": false
   },
   "outputs": [
    {
     "ename": "NameError",
     "evalue": "name 'ra' is not defined",
     "output_type": "error",
     "traceback": [
      "\u001b[0;31m---------------------------------------------------------------------------\u001b[0m",
      "\u001b[0;31mNameError\u001b[0m                                 Traceback (most recent call last)",
      "\u001b[0;32m<ipython-input-6-ec883c1ac095>\u001b[0m in \u001b[0;36m<module>\u001b[0;34m()\u001b[0m\n\u001b[1;32m      5\u001b[0m \u001b[0msimard2\u001b[0m \u001b[0;34m=\u001b[0m \u001b[0mfits\u001b[0m\u001b[0;34m.\u001b[0m\u001b[0mgetdata\u001b[0m\u001b[0;34m(\u001b[0m\u001b[0;34m'Simard2ToNSA.fits'\u001b[0m\u001b[0;34m)\u001b[0m\u001b[0;34m\u001b[0m\u001b[0m\n\u001b[1;32m      6\u001b[0m \u001b[0msimard3\u001b[0m \u001b[0;34m=\u001b[0m \u001b[0mfits\u001b[0m\u001b[0;34m.\u001b[0m\u001b[0mgetdata\u001b[0m\u001b[0;34m(\u001b[0m\u001b[0;34m'Simard3ToNSA.fits'\u001b[0m\u001b[0;34m)\u001b[0m\u001b[0;34m\u001b[0m\u001b[0m\n\u001b[0;32m----> 7\u001b[0;31m \u001b[0md\u001b[0m\u001b[0;34m=\u001b[0m\u001b[0mnp\u001b[0m\u001b[0;34m.\u001b[0m\u001b[0msqrt\u001b[0m\u001b[0;34m(\u001b[0m\u001b[0;34m(\u001b[0m\u001b[0mra\u001b[0m\u001b[0;34m-\u001b[0m\u001b[0mnsadat\u001b[0m\u001b[0;34m.\u001b[0m\u001b[0mRA\u001b[0m\u001b[0;34m)\u001b[0m\u001b[0;34m**\u001b[0m\u001b[0;36m2\u001b[0m \u001b[0;34m+\u001b[0m \u001b[0;34m(\u001b[0m\u001b[0mdec\u001b[0m\u001b[0;34m-\u001b[0m\u001b[0mnsadat\u001b[0m\u001b[0;34m.\u001b[0m\u001b[0mDEC\u001b[0m\u001b[0;34m)\u001b[0m\u001b[0;34m**\u001b[0m\u001b[0;36m2\u001b[0m\u001b[0;34m)\u001b[0m\u001b[0;34m\u001b[0m\u001b[0m\n\u001b[0m\u001b[1;32m      8\u001b[0m \u001b[0mindex\u001b[0m\u001b[0;34m=\u001b[0m\u001b[0mnp\u001b[0m\u001b[0;34m.\u001b[0m\u001b[0marange\u001b[0m\u001b[0;34m(\u001b[0m\u001b[0mlen\u001b[0m\u001b[0;34m(\u001b[0m\u001b[0md\u001b[0m\u001b[0;34m)\u001b[0m\u001b[0;34m)\u001b[0m\u001b[0;34m\u001b[0m\u001b[0m\n\u001b[1;32m      9\u001b[0m \u001b[0mmatches\u001b[0m\u001b[0;34m=\u001b[0m\u001b[0;34m(\u001b[0m\u001b[0md\u001b[0m\u001b[0;34m<=\u001b[0m\u001b[0mradius\u001b[0m\u001b[0;34m)\u001b[0m \u001b[0;31m# list of indices that are within the radius\u001b[0m\u001b[0;34m\u001b[0m\u001b[0m\n",
      "\u001b[0;31mNameError\u001b[0m: name 'ra' is not defined"
     ]
    }
   ],
   "source": [
    "petro = fits.getdata('YangDR7PetroToNSA.fits')\n",
    "model = fits.getdata('YangDR7ModelToNSA.fits')\n",
    "nsadat = fits.getdata('nsa_v0_1_2.fits')\n",
    "simard1 = fits.getdata('Simard1ToNSA.fits')\n",
    "simard2 = fits.getdata('Simard2ToNSA.fits')\n",
    "simard3 = fits.getdata('Simard3ToNSA.fits')\n",
    "d=np.sqrt((ra-nsadat.RA)**2 + (dec-nsadat.DEC)**2)\n",
    "index=np.arange(len(d))\n",
    "matches=(d<=radius) # list of indices that are within the radius\n",
    "print '%i entries found' % len(matches)\n",
    "nsamatch = []\n",
    "petromatch = []\n",
    "modelmatch = []\n",
    "simard1match = []\n",
    "numcolumns = [len(nsadat[0]),len(petro[0]),len(model[0]),len(simard1[0]),len(simard2[0]),len(simard3[0])]\n",
    "print numcolumns"
   ]
  },
  {
   "cell_type": "code",
   "execution_count": null,
   "metadata": {
    "collapsed": true
   },
   "outputs": [],
   "source": []
  }
 ],
 "metadata": {
  "kernelspec": {
   "display_name": "Python 2",
   "language": "python",
   "name": "python2"
  },
  "language_info": {
   "codemirror_mode": {
    "name": "ipython",
    "version": 2
   },
   "file_extension": ".py",
   "mimetype": "text/x-python",
   "name": "python",
   "nbconvert_exporter": "python",
   "pygments_lexer": "ipython2",
   "version": "2.7.11"
  }
 },
 "nbformat": 4,
 "nbformat_minor": 0
}
