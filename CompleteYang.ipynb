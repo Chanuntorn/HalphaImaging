{
 "cells": [
  {
   "cell_type": "markdown",
   "metadata": {},
   "source": [
    "GOAL:  \n",
    "    To complete the Yang tables so they include information on each galaxy and the group it is in"
   ]
  },
  {
   "cell_type": "code",
   "execution_count": 3,
   "metadata": {
    "collapsed": true
   },
   "outputs": [],
   "source": [
    "import csv\n",
    "import numpy as np\n",
    "from astropy.io import fits\n",
    "import glob"
   ]
  },
  {
   "cell_type": "code",
   "execution_count": 4,
   "metadata": {
    "collapsed": true
   },
   "outputs": [],
   "source": [
    "def combineTable(t1,t2):\n",
    "    t1 = np.array(t1) # SDSS7.csv\n",
    "    t2 = np.array(t2) # combinePetro.csv / combineModel.csv\n",
    "    combinedArray = np.empty((639359,28),'f') \n",
    "    combinedArray[:,0:13] = t1[0:13,:].T\n",
    "    combinedArray[:,13:28] = t2[2:17,:].T\n",
    "    return combinedArray\n",
    "\n",
    "def makeFits(cT,outname):\n",
    "    p0 = fits.Column(name='galaxy_ID',format='J',array=cT[:,0])\n",
    "    p1 = fits.Column(name='galaxy_ID_NYU',format='J',array=cT[:,1])\n",
    "    p2 = fits.Column(name='RA_gal',format='E',array=cT[:,2])\n",
    "    p3 = fits.Column(name='DEC_gal',format='E',array=cT[:,3])\n",
    "    p4 = fits.Column(name='Z_gal',format='E',array=cT[:,4])\n",
    "    p5 = fits.Column(name='app_mag',format='E',array=cT[:,5])\n",
    "    p6 = fits.Column(name='mag_lim',format='E',array=cT[:,6])\n",
    "    p7 = fits.Column(name='completeness',format='E',array=cT[:,7])\n",
    "    p8 = fits.Column(name='log_h_petro',format='E',array=cT[:,8])\n",
    "    p9 = fits.Column(name='color_petro',format='E',array=cT[:,9])\n",
    "    p10 = fits.Column(name='log_h_model',format='E',array=cT[:,10])\n",
    "    p11 = fits.Column(name='color_model',format='E',array=cT[:,11])\n",
    "    p12 = fits.Column(name='Z_source',format='J',array=cT[:,12])\n",
    "    p13 = fits.Column(name='group_ID',format='J',array=cT[:,13])\n",
    "    p14 = fits.Column(name='brightest_gal',format='J',array=cT[:,14])\n",
    "    p15 = fits.Column(name='massive_gal',format='J',array=cT[:,15])\n",
    "    p16 = fits.Column(name='RA_group',format='E',array=cT[:,16])\n",
    "    p17 = fits.Column(name='DEC_group',format='E',array=cT[:,17])\n",
    "    p18 = fits.Column(name='Z_group',format='E',array=cT[:,18])\n",
    "    p19 = fits.Column(name='L_group',format='E',array=cT[:,19])\n",
    "    p20 = fits.Column(name='mass_group',format='E',array=cT[:,20])\n",
    "    p21 = fits.Column(name='halo_mass1',format='E',array=cT[:,21])\n",
    "    p22 = fits.Column(name='halo_mass2',format='E',array=cT[:,22])\n",
    "    p23 = fits.Column(name='d_L',format='E',array=cT[:,23])\n",
    "    p24 = fits.Column(name='d_M',format='E',array=cT[:,24])\n",
    "    p25 = fits.Column(name='f_edge',format='E',array=cT[:,25])\n",
    "    p26 = fits.Column(name='ID1',format='J',array=cT[:,26])\n",
    "    p27 = fits.Column(name='ID2',format='J',array=cT[:,27])\n",
    "    \n",
    "    \n",
    "    coldefs = fits.ColDefs([p0,p1,p2,p3,p4,p5,p6,p7,p8,p9,p10,p11,p12,p13,p14,p15,p16,p17,p18,p19,p20,p21,p22,p23,p24,p25,p26,p27])\n",
    "    hdu = fits.BinTableHDU.from_columns(coldefs)\n",
    "    outfile = outname+'.fits'\n",
    "    hdu.writeto(outfile,clobber=True)"
   ]
  },
  {
   "cell_type": "code",
   "execution_count": 5,
   "metadata": {
    "collapsed": false
   },
   "outputs": [],
   "source": [
    "doc='SDSS7' \n",
    "with open(doc) as fin, open(doc+'.csv','w') as fout:\n",
    "    o=csv.writer(fout)\n",
    "    for line in fin:\n",
    "        o.writerow(line.split())"
   ]
  },
  {
   "cell_type": "code",
   "execution_count": 6,
   "metadata": {
    "collapsed": false
   },
   "outputs": [
    {
     "ename": "IOError",
     "evalue": "[Errno 2] No such file or directory: 'combinePetro.csv'",
     "output_type": "error",
     "traceback": [
      "\u001b[0;31m---------------------------------------------------------------------------\u001b[0m",
      "\u001b[0;31mIOError\u001b[0m                                   Traceback (most recent call last)",
      "\u001b[0;32m<ipython-input-6-69559465757a>\u001b[0m in \u001b[0;36m<module>\u001b[0;34m()\u001b[0m\n\u001b[0;32m----> 1\u001b[0;31m \u001b[0mpetro\u001b[0m \u001b[0;34m=\u001b[0m \u001b[0mnp\u001b[0m\u001b[0;34m.\u001b[0m\u001b[0mloadtxt\u001b[0m\u001b[0;34m(\u001b[0m\u001b[0;34m'combinePetro.csv'\u001b[0m\u001b[0;34m,\u001b[0m\u001b[0mdelimiter\u001b[0m\u001b[0;34m=\u001b[0m\u001b[0;34m','\u001b[0m\u001b[0;34m,\u001b[0m\u001b[0munpack\u001b[0m\u001b[0;34m=\u001b[0m\u001b[0mTrue\u001b[0m\u001b[0;34m,\u001b[0m\u001b[0mdtype\u001b[0m\u001b[0;34m=\u001b[0m\u001b[0mfloat\u001b[0m\u001b[0;34m)\u001b[0m\u001b[0;34m\u001b[0m\u001b[0m\n\u001b[0m\u001b[1;32m      2\u001b[0m \u001b[0mmodel\u001b[0m \u001b[0;34m=\u001b[0m \u001b[0mnp\u001b[0m\u001b[0;34m.\u001b[0m\u001b[0mloadtxt\u001b[0m\u001b[0;34m(\u001b[0m\u001b[0;34m'combineModel.csv'\u001b[0m\u001b[0;34m,\u001b[0m\u001b[0mdelimiter\u001b[0m\u001b[0;34m=\u001b[0m\u001b[0;34m','\u001b[0m\u001b[0;34m,\u001b[0m\u001b[0munpack\u001b[0m\u001b[0;34m=\u001b[0m\u001b[0mTrue\u001b[0m\u001b[0;34m,\u001b[0m\u001b[0mdtype\u001b[0m\u001b[0;34m=\u001b[0m\u001b[0mfloat\u001b[0m\u001b[0;34m)\u001b[0m\u001b[0;34m\u001b[0m\u001b[0m\n\u001b[1;32m      3\u001b[0m \u001b[0mSDSS7\u001b[0m \u001b[0;34m=\u001b[0m \u001b[0mnp\u001b[0m\u001b[0;34m.\u001b[0m\u001b[0mloadtxt\u001b[0m\u001b[0;34m(\u001b[0m\u001b[0;34m'SDSS7.csv'\u001b[0m\u001b[0;34m,\u001b[0m\u001b[0mdelimiter\u001b[0m\u001b[0;34m=\u001b[0m\u001b[0;34m','\u001b[0m\u001b[0;34m,\u001b[0m\u001b[0munpack\u001b[0m\u001b[0;34m=\u001b[0m\u001b[0mTrue\u001b[0m\u001b[0;34m,\u001b[0m\u001b[0mdtype\u001b[0m\u001b[0;34m=\u001b[0m\u001b[0mfloat\u001b[0m\u001b[0;34m)\u001b[0m\u001b[0;34m\u001b[0m\u001b[0m\n",
      "\u001b[0;32m//anaconda/lib/python2.7/site-packages/numpy/lib/npyio.pyc\u001b[0m in \u001b[0;36mloadtxt\u001b[0;34m(fname, dtype, comments, delimiter, converters, skiprows, usecols, unpack, ndmin)\u001b[0m\n\u001b[1;32m    799\u001b[0m                 \u001b[0mfh\u001b[0m \u001b[0;34m=\u001b[0m \u001b[0miter\u001b[0m\u001b[0;34m(\u001b[0m\u001b[0mbz2\u001b[0m\u001b[0;34m.\u001b[0m\u001b[0mBZ2File\u001b[0m\u001b[0;34m(\u001b[0m\u001b[0mfname\u001b[0m\u001b[0;34m)\u001b[0m\u001b[0;34m)\u001b[0m\u001b[0;34m\u001b[0m\u001b[0m\n\u001b[1;32m    800\u001b[0m             \u001b[0;32melif\u001b[0m \u001b[0msys\u001b[0m\u001b[0;34m.\u001b[0m\u001b[0mversion_info\u001b[0m\u001b[0;34m[\u001b[0m\u001b[0;36m0\u001b[0m\u001b[0;34m]\u001b[0m \u001b[0;34m==\u001b[0m \u001b[0;36m2\u001b[0m\u001b[0;34m:\u001b[0m\u001b[0;34m\u001b[0m\u001b[0m\n\u001b[0;32m--> 801\u001b[0;31m                 \u001b[0mfh\u001b[0m \u001b[0;34m=\u001b[0m \u001b[0miter\u001b[0m\u001b[0;34m(\u001b[0m\u001b[0mopen\u001b[0m\u001b[0;34m(\u001b[0m\u001b[0mfname\u001b[0m\u001b[0;34m,\u001b[0m \u001b[0;34m'U'\u001b[0m\u001b[0;34m)\u001b[0m\u001b[0;34m)\u001b[0m\u001b[0;34m\u001b[0m\u001b[0m\n\u001b[0m\u001b[1;32m    802\u001b[0m             \u001b[0;32melse\u001b[0m\u001b[0;34m:\u001b[0m\u001b[0;34m\u001b[0m\u001b[0m\n\u001b[1;32m    803\u001b[0m                 \u001b[0mfh\u001b[0m \u001b[0;34m=\u001b[0m \u001b[0miter\u001b[0m\u001b[0;34m(\u001b[0m\u001b[0mopen\u001b[0m\u001b[0;34m(\u001b[0m\u001b[0mfname\u001b[0m\u001b[0;34m)\u001b[0m\u001b[0;34m)\u001b[0m\u001b[0;34m\u001b[0m\u001b[0m\n",
      "\u001b[0;31mIOError\u001b[0m: [Errno 2] No such file or directory: 'combinePetro.csv'"
     ]
    }
   ],
   "source": [
    "petro = np.loadtxt('combinePetro.csv',delimiter=',',unpack=True,dtype=float)\n",
    "model = np.loadtxt('combineModel.csv',delimiter=',',unpack=True,dtype=float)\n",
    "SDSS7 = np.loadtxt('SDSS7.csv',delimiter=',',unpack=True,dtype=float)"
   ]
  },
  {
   "cell_type": "code",
   "execution_count": null,
   "metadata": {
    "collapsed": false
   },
   "outputs": [],
   "source": [
    "completePetro = combineTable(SDSS7,petro)\n",
    "completeModel = combineTable(SDSS7,model)\n",
    "makeFits(completePetro,'completePetro')\n",
    "makeFits(completeModel,'completeModel')\n",
    "np.savetxt(\"completePetro.csv\", completePetro, delimiter=\",\")\n",
    "np.savetxt(\"completeModel.csv\", completeModel, delimiter=\",\")\n"
   ]
  },
  {
   "cell_type": "code",
   "execution_count": null,
   "metadata": {
    "collapsed": true
   },
   "outputs": [],
   "source": []
  }
 ],
 "metadata": {
  "kernelspec": {
   "display_name": "Python 2",
   "language": "python",
   "name": "python2"
  },
  "language_info": {
   "codemirror_mode": {
    "name": "ipython",
    "version": 2
   },
   "file_extension": ".py",
   "mimetype": "text/x-python",
   "name": "python",
   "nbconvert_exporter": "python",
   "pygments_lexer": "ipython2",
   "version": "2.7.11"
  }
 },
 "nbformat": 4,
 "nbformat_minor": 0
}
