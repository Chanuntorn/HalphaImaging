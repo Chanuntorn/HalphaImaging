{
 "cells": [
  {
   "cell_type": "markdown",
   "metadata": {},
   "source": [
    "GOAL:  \n",
    "    To complete the Yang tables so they include information on each galaxy and the group it is in"
   ]
  },
  {
   "cell_type": "code",
   "execution_count": 3,
   "metadata": {
    "collapsed": true
   },
   "outputs": [],
   "source": [
    "import csv\n",
    "import numpy as np\n",
    "from astropy.io import fits\n",
    "import glob"
   ]
  },
  {
   "cell_type": "code",
   "execution_count": 11,
   "metadata": {
    "collapsed": true
   },
   "outputs": [],
   "source": [
    "def combineTable(t1,t2):\n",
    "    t1 = np.array(t1) # SDSS7.csv\n",
    "    t2 = np.array(t2) # combinePetro.csv / combineModel.csv\n",
    "    combinedArray = np.empty((639359,28),'f') \n",
    "    combinedArray[:,0:13] = t1[0:13,:].T\n",
    "    combinedArray[:,13:28] = t2[2:17,:].T\n",
    "    return combinedArray\n",
    "\n",
    "def makeFits(cT,outname):\n",
    "    p0 = fits.Column(name='galaxy_ID',format='J',array=cT[:,0])\n",
    "    p1 = fits.Column(name='galaxy_ID_NYU',format='J',array=cT[:,1])\n",
    "    p2 = fits.Column(name='RA_gal',format='J',array=cT[:,2])\n",
    "    p3 = fits.Column(name='DEC_gal',format='J',array=cT[:,3])\n",
    "    p4 = fits.Column(name='Z_gal',format='J',array=cT[:,4])\n",
    "    p5 = fits.Column(name='app_mag',format='J',array=cT[:,5])\n",
    "    p6 = fits.Column(name='mag_lim',format='J',array=cT[:,6])\n",
    "    p7 = fits.Column(name='completeness',format='J',array=cT[:,7])\n",
    "    p8 = fits.Column(name='log_h_petro',format='J',array=cT[:,8])\n",
    "    p9 = fits.Column(name='color_petro',format='J',array=cT[:,9])\n",
    "    p10 = fits.Column(name='log_h_model',format='J',array=cT[:,10])\n",
    "    p11 = fits.Column(name='color_model',format='J',array=cT[:,11])\n",
    "    p12 = fits.Column(name='Z_source',format='J',array=cT[:,12])\n",
    "    p13 = fits.Column(name='group_ID',format='J',array=cT[:,13])\n",
    "    p14 = fits.Column(name='brightest_gal',format='J',array=cT[:,14])\n",
    "    p15 = fits.Column(name='massive_gal',format='J',array=cT[:,15])\n",
    "    p16 = fits.Column(name='RA_group',format='J',array=cT[:,16])\n",
    "    p17 = fits.Column(name='DEC_group',format='J',array=cT[:,17])\n",
    "    p18 = fits.Column(name='Z_group',format='J',array=cT[:,18])\n",
    "    p19 = fits.Column(name='L_group',format='J',array=cT[:,19])\n",
    "    p20 = fits.Column(name='mass_group',format='J',array=cT[:,20])\n",
    "    p21 = fits.Column(name='halo_mass1',format='J',array=cT[:,21])\n",
    "    p22 = fits.Column(name='halo_mass2',format='J',array=cT[:,22])\n",
    "    p23 = fits.Column(name='d_L',format='J',array=cT[:,23])\n",
    "    p24 = fits.Column(name='d_M',format='J',array=cT[:,24])\n",
    "    p25 = fits.Column(name='f_edge',format='J',array=cT[:,25])\n",
    "    p26 = fits.Column(name='ID1',format='J',array=cT[:,26])\n",
    "    p27 = fits.Column(name='ID2',format='J',array=cT[:,27])\n",
    "    \n",
    "    \n",
    "    coldefs = fits.ColDefs([p1,p2,p3,p4,p5,p6,p7,p8,p9,p10,p11,p12,p13,p14,p15,p16,p17,p18,p19,p20,p21,p22,p23,p24,p25,p26,p27])\n",
    "    hdu = fits.BinTableHDU.from_columns(coldefs)\n",
    "    outfile = outname+'.fits'\n",
    "    hdu.writeto(outfile,clobber=True)"
   ]
  },
  {
   "cell_type": "code",
   "execution_count": 5,
   "metadata": {
    "collapsed": false
   },
   "outputs": [],
   "source": [
    "infiles = glob.glob('SDSS7')\n",
    "for doc in infiles:\n",
    "    with open(doc) as fin, open(doc+'.csv','w') as fout:\n",
    "        o=csv.writer(fout)\n",
    "        for line in fin:\n",
    "            o.writerow(line.split())"
   ]
  },
  {
   "cell_type": "code",
   "execution_count": 8,
   "metadata": {
    "collapsed": false
   },
   "outputs": [],
   "source": [
    "petro = np.loadtxt('combinePetro.csv',delimiter=',',unpack=True,dtype=float)\n",
    "model = np.loadtxt('combineModel.csv',delimiter=',',unpack=True,dtype=float)\n",
    "SDSS7 = np.loadtxt('SDSS7.csv',delimiter=',',unpack=True,dtype=float)"
   ]
  },
  {
   "cell_type": "code",
   "execution_count": 12,
   "metadata": {
    "collapsed": false
   },
   "outputs": [],
   "source": [
    "completePetro = combineTable(SDSS7,petro)\n",
    "completeModel = combineTable(SDSS7,model)\n",
    "makeFits(completePetro,'completePetro')\n",
    "makeFits(completeModel,'completeModel')\n",
    "np.savetxt(\"completePetro.csv\", completePetro, delimiter=\",\")\n",
    "np.savetxt(\"completeModel.csv\", completeModel, delimiter=\",\")\n"
   ]
  },
  {
   "cell_type": "code",
   "execution_count": null,
   "metadata": {
    "collapsed": true
   },
   "outputs": [],
   "source": []
  }
 ],
 "metadata": {
  "kernelspec": {
   "display_name": "Python 2",
   "language": "python",
   "name": "python2"
  },
  "language_info": {
   "codemirror_mode": {
    "name": "ipython",
    "version": 2
   },
   "file_extension": ".py",
   "mimetype": "text/x-python",
   "name": "python",
   "nbconvert_exporter": "python",
   "pygments_lexer": "ipython2",
   "version": "2.7.11"
  }
 },
 "nbformat": 4,
 "nbformat_minor": 0
}
